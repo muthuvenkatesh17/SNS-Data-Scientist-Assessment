{
 "cells": [
  {
   "cell_type": "code",
   "execution_count": 10,
   "id": "5ec372c3-3039-44b6-a8b3-a552cad4749f",
   "metadata": {},
   "outputs": [
    {
     "data": {
      "text/html": [
       "<div>\n",
       "<style scoped>\n",
       "    .dataframe tbody tr th:only-of-type {\n",
       "        vertical-align: middle;\n",
       "    }\n",
       "\n",
       "    .dataframe tbody tr th {\n",
       "        vertical-align: top;\n",
       "    }\n",
       "\n",
       "    .dataframe thead th {\n",
       "        text-align: right;\n",
       "    }\n",
       "</style>\n",
       "<table border=\"1\" class=\"dataframe\">\n",
       "  <thead>\n",
       "    <tr style=\"text-align: right;\">\n",
       "      <th></th>\n",
       "      <th>Product_ID</th>\n",
       "      <th>Product_Name</th>\n",
       "      <th>Category</th>\n",
       "      <th>Brand</th>\n",
       "      <th>Price</th>\n",
       "      <th>Units_Sold</th>\n",
       "      <th>Customer_Rating</th>\n",
       "      <th>Launch_Year</th>\n",
       "      <th>Processor_Type</th>\n",
       "      <th>RAM</th>\n",
       "      <th>Storage</th>\n",
       "      <th>Battery_Life</th>\n",
       "      <th>Operating_System</th>\n",
       "      <th>Warranty_Period</th>\n",
       "    </tr>\n",
       "  </thead>\n",
       "  <tbody>\n",
       "    <tr>\n",
       "      <th>0</th>\n",
       "      <td>1.0</td>\n",
       "      <td>GameStation Z</td>\n",
       "      <td>Tablet</td>\n",
       "      <td>MegaSoft</td>\n",
       "      <td>679.27</td>\n",
       "      <td>9701.0</td>\n",
       "      <td>4.2</td>\n",
       "      <td>2022.0</td>\n",
       "      <td>Snapdragon 888</td>\n",
       "      <td>6.0</td>\n",
       "      <td>512.0</td>\n",
       "      <td>NaN</td>\n",
       "      <td>iOS</td>\n",
       "      <td>1.0</td>\n",
       "    </tr>\n",
       "    <tr>\n",
       "      <th>1</th>\n",
       "      <td>2.0</td>\n",
       "      <td>WorkPro 15</td>\n",
       "      <td>Tablet</td>\n",
       "      <td>TechCorp</td>\n",
       "      <td>682.97</td>\n",
       "      <td>1096.0</td>\n",
       "      <td>4.4</td>\n",
       "      <td>2023.0</td>\n",
       "      <td>Intel i7</td>\n",
       "      <td>8.0</td>\n",
       "      <td>256.0</td>\n",
       "      <td>12.0</td>\n",
       "      <td>Windows</td>\n",
       "      <td>2.0</td>\n",
       "    </tr>\n",
       "    <tr>\n",
       "      <th>2</th>\n",
       "      <td>3.0</td>\n",
       "      <td>UltraPhone X</td>\n",
       "      <td>Smartphone</td>\n",
       "      <td>MegaSoft</td>\n",
       "      <td>779.28</td>\n",
       "      <td>1604.0</td>\n",
       "      <td>3.9</td>\n",
       "      <td>2023.0</td>\n",
       "      <td>Snapdragon 888</td>\n",
       "      <td>12.0</td>\n",
       "      <td>256.0</td>\n",
       "      <td>8.0</td>\n",
       "      <td>iOS</td>\n",
       "      <td>1.0</td>\n",
       "    </tr>\n",
       "    <tr>\n",
       "      <th>3</th>\n",
       "      <td>4.0</td>\n",
       "      <td>GameStation Z</td>\n",
       "      <td>Laptop</td>\n",
       "      <td>TechCorp</td>\n",
       "      <td>843.43</td>\n",
       "      <td>4789.0</td>\n",
       "      <td>4.9</td>\n",
       "      <td>2022.0</td>\n",
       "      <td>AMD Ryzen 7</td>\n",
       "      <td>16.0</td>\n",
       "      <td>128.0</td>\n",
       "      <td>8.0</td>\n",
       "      <td>Windows</td>\n",
       "      <td>1.0</td>\n",
       "    </tr>\n",
       "    <tr>\n",
       "      <th>4</th>\n",
       "      <td>5.0</td>\n",
       "      <td>GameStation Z</td>\n",
       "      <td>Laptop</td>\n",
       "      <td>TechCorp</td>\n",
       "      <td>1064.79</td>\n",
       "      <td>2278.0</td>\n",
       "      <td>3.6</td>\n",
       "      <td>2022.0</td>\n",
       "      <td>AMD Ryzen 7</td>\n",
       "      <td>32.0</td>\n",
       "      <td>256.0</td>\n",
       "      <td>10.0</td>\n",
       "      <td>Windows</td>\n",
       "      <td>2.0</td>\n",
       "    </tr>\n",
       "  </tbody>\n",
       "</table>\n",
       "</div>"
      ],
      "text/plain": [
       "   Product_ID   Product_Name    Category     Brand    Price  Units_Sold  \\\n",
       "0         1.0  GameStation Z      Tablet  MegaSoft   679.27      9701.0   \n",
       "1         2.0     WorkPro 15      Tablet  TechCorp   682.97      1096.0   \n",
       "2         3.0   UltraPhone X  Smartphone  MegaSoft   779.28      1604.0   \n",
       "3         4.0  GameStation Z      Laptop  TechCorp   843.43      4789.0   \n",
       "4         5.0  GameStation Z      Laptop  TechCorp  1064.79      2278.0   \n",
       "\n",
       "   Customer_Rating  Launch_Year  Processor_Type   RAM  Storage  Battery_Life  \\\n",
       "0              4.2       2022.0  Snapdragon 888   6.0    512.0           NaN   \n",
       "1              4.4       2023.0        Intel i7   8.0    256.0          12.0   \n",
       "2              3.9       2023.0  Snapdragon 888  12.0    256.0           8.0   \n",
       "3              4.9       2022.0     AMD Ryzen 7  16.0    128.0           8.0   \n",
       "4              3.6       2022.0     AMD Ryzen 7  32.0    256.0          10.0   \n",
       "\n",
       "  Operating_System  Warranty_Period  \n",
       "0              iOS              1.0  \n",
       "1          Windows              2.0  \n",
       "2              iOS              1.0  \n",
       "3          Windows              1.0  \n",
       "4          Windows              2.0  "
      ]
     },
     "execution_count": 10,
     "metadata": {},
     "output_type": "execute_result"
    }
   ],
   "source": [
    "#Load the dataset \n",
    "import pandas as pd\n",
    "df = pd.read_csv('Technology Products.csv',index_col = False)\n",
    "df.head()"
   ]
  },
  {
   "cell_type": "code",
   "execution_count": 11,
   "id": "42197367-ea4d-469a-bf27-b6b5daf44443",
   "metadata": {},
   "outputs": [
    {
     "name": "stdout",
     "output_type": "stream",
     "text": [
      "<class 'pandas.core.frame.DataFrame'>\n",
      "RangeIndex: 50000 entries, 0 to 49999\n",
      "Data columns (total 14 columns):\n",
      " #   Column            Non-Null Count  Dtype  \n",
      "---  ------            --------------  -----  \n",
      " 0   Product_ID        47500 non-null  float64\n",
      " 1   Product_Name      47500 non-null  object \n",
      " 2   Category          47500 non-null  object \n",
      " 3   Brand             47500 non-null  object \n",
      " 4   Price             47500 non-null  float64\n",
      " 5   Units_Sold        47500 non-null  float64\n",
      " 6   Customer_Rating   47500 non-null  float64\n",
      " 7   Launch_Year       47500 non-null  float64\n",
      " 8   Processor_Type    47500 non-null  object \n",
      " 9   RAM               47500 non-null  float64\n",
      " 10  Storage           47500 non-null  float64\n",
      " 11  Battery_Life      47500 non-null  float64\n",
      " 12  Operating_System  47500 non-null  object \n",
      " 13  Warranty_Period   47500 non-null  float64\n",
      "dtypes: float64(9), object(5)\n",
      "memory usage: 5.3+ MB\n"
     ]
    }
   ],
   "source": [
    "df.info()"
   ]
  },
  {
   "cell_type": "markdown",
   "id": "1e273556-2beb-4276-a07e-cd881fecc253",
   "metadata": {},
   "source": [
    "# HANDLING MISSING VALUES "
   ]
  },
  {
   "cell_type": "code",
   "execution_count": 12,
   "id": "9112ad0a-39c4-4d5c-9625-b63638620c09",
   "metadata": {},
   "outputs": [
    {
     "name": "stdout",
     "output_type": "stream",
     "text": [
      "Product_ID          2500\n",
      "Product_Name        2500\n",
      "Category            2500\n",
      "Brand               2500\n",
      "Price               2500\n",
      "Units_Sold          2500\n",
      "Customer_Rating     2500\n",
      "Launch_Year         2500\n",
      "Processor_Type      2500\n",
      "RAM                 2500\n",
      "Storage             2500\n",
      "Battery_Life        2500\n",
      "Operating_System    2500\n",
      "Warranty_Period     2500\n",
      "dtype: int64\n"
     ]
    }
   ],
   "source": [
    "# Check for missing values\n",
    "missing_values = df.isnull().sum()\n",
    "print(missing_values)"
   ]
  },
  {
   "cell_type": "code",
   "execution_count": 13,
   "id": "ba2ee88d-d3e3-43f7-87b1-ceb340933c2f",
   "metadata": {},
   "outputs": [
    {
     "name": "stdout",
     "output_type": "stream",
     "text": [
      "<class 'pandas.core.frame.DataFrame'>\n",
      "Index: 24351 entries, 1 to 49999\n",
      "Data columns (total 14 columns):\n",
      " #   Column            Non-Null Count  Dtype  \n",
      "---  ------            --------------  -----  \n",
      " 0   Product_ID        24351 non-null  float64\n",
      " 1   Product_Name      24351 non-null  object \n",
      " 2   Category          24351 non-null  object \n",
      " 3   Brand             24351 non-null  object \n",
      " 4   Price             24351 non-null  float64\n",
      " 5   Units_Sold        24351 non-null  float64\n",
      " 6   Customer_Rating   24351 non-null  float64\n",
      " 7   Launch_Year       24351 non-null  float64\n",
      " 8   Processor_Type    24351 non-null  object \n",
      " 9   RAM               24351 non-null  float64\n",
      " 10  Storage           24351 non-null  float64\n",
      " 11  Battery_Life      24351 non-null  float64\n",
      " 12  Operating_System  24351 non-null  object \n",
      " 13  Warranty_Period   24351 non-null  float64\n",
      "dtypes: float64(9), object(5)\n",
      "memory usage: 2.8+ MB\n"
     ]
    }
   ],
   "source": [
    "df = df.dropna()\n",
    "df.info()"
   ]
  },
  {
   "cell_type": "markdown",
   "id": "dfd36cbf-ec8c-44d0-977c-1d8d4a4c8688",
   "metadata": {},
   "source": [
    "# DETECTING OUTLIERS AND MANAGING OUTLIERS"
   ]
  },
  {
   "cell_type": "code",
   "execution_count": 14,
   "id": "91d0a070-39d4-4e64-bf8a-9c936b6e3a84",
   "metadata": {},
   "outputs": [
    {
     "name": "stdout",
     "output_type": "stream",
     "text": [
      "Number of outliers: 384\n"
     ]
    }
   ],
   "source": [
    "Q1 = df['Price'].quantile(0.25)\n",
    "Q3 = df['Price'].quantile(0.75)\n",
    "IQR = Q3 - Q1\n",
    "\n",
    "# Define outlier thresholds\n",
    "lower_bound = Q1 - 1.5 * IQR\n",
    "upper_bound = Q3 + 1.5 * IQR\n",
    "\n",
    "# Filter out outliers\n",
    "outliers = df[(df['Price'] < lower_bound) | (df['Price'] > upper_bound)]\n",
    "print(\"Number of outliers:\", len(outliers))\n",
    "#print(\"Outliers:\\n\", outliers)"
   ]
  },
  {
   "cell_type": "code",
   "execution_count": 15,
   "id": "4ea824b6-3dd5-44bc-8025-9a887706b9a5",
   "metadata": {},
   "outputs": [
    {
     "name": "stdout",
     "output_type": "stream",
     "text": [
      "Removed 384 outliers.\n"
     ]
    }
   ],
   "source": [
    "import pandas as pd\n",
    "\n",
    "# Calculate IQR\n",
    "Q1 = df['Price'].quantile(0.25)\n",
    "Q3 = df['Price'].quantile(0.75)\n",
    "IQR = Q3 - Q1\n",
    "\n",
    "# Define outlier thresholds\n",
    "lower_bound = Q1 - 1.5 * IQR\n",
    "upper_bound = Q3 + 1.5 * IQR\n",
    "\n",
    "# Remove outliers\n",
    "df_clean = df[(df['Price'] >= lower_bound) & (df['Price'] <= upper_bound)]\n",
    "\n",
    "print(f\"Removed {len(df) - len(df_clean)} outliers.\")"
   ]
  },
  {
   "cell_type": "code",
   "execution_count": 17,
   "id": "d1e4c165-fc62-49fb-8b7c-7ba2677f95b4",
   "metadata": {},
   "outputs": [
    {
     "name": "stdout",
     "output_type": "stream",
     "text": [
      "<class 'pandas.core.frame.DataFrame'>\n",
      "Index: 23967 entries, 1 to 49999\n",
      "Data columns (total 14 columns):\n",
      " #   Column            Non-Null Count  Dtype  \n",
      "---  ------            --------------  -----  \n",
      " 0   Product_ID        23967 non-null  float64\n",
      " 1   Product_Name      23967 non-null  object \n",
      " 2   Category          23967 non-null  object \n",
      " 3   Brand             23967 non-null  object \n",
      " 4   Price             23967 non-null  float64\n",
      " 5   Units_Sold        23967 non-null  float64\n",
      " 6   Customer_Rating   23967 non-null  float64\n",
      " 7   Launch_Year       23967 non-null  float64\n",
      " 8   Processor_Type    23967 non-null  object \n",
      " 9   RAM               23967 non-null  float64\n",
      " 10  Storage           23967 non-null  float64\n",
      " 11  Battery_Life      23967 non-null  float64\n",
      " 12  Operating_System  23967 non-null  object \n",
      " 13  Warranty_Period   23967 non-null  float64\n",
      "dtypes: float64(9), object(5)\n",
      "memory usage: 2.7+ MB\n"
     ]
    }
   ],
   "source": [
    "df_clean.info()"
   ]
  },
  {
   "cell_type": "markdown",
   "id": "58916e55-2003-445f-8d2b-d7e8c48dd780",
   "metadata": {},
   "source": [
    "### CHANGING DATATYPE OF SOME IMPORTANT COLUMNS"
   ]
  },
  {
   "cell_type": "code",
   "execution_count": 55,
   "id": "13a45047-a26f-4427-addc-6b614abc76a3",
   "metadata": {},
   "outputs": [
    {
     "name": "stdout",
     "output_type": "stream",
     "text": [
      "<class 'pandas.core.frame.DataFrame'>\n",
      "Index: 23967 entries, 1 to 49999\n",
      "Data columns (total 15 columns):\n",
      " #   Column            Non-Null Count  Dtype  \n",
      "---  ------            --------------  -----  \n",
      " 0   Product_ID        23967 non-null  int32  \n",
      " 1   Product_Name      23967 non-null  object \n",
      " 2   Category          23967 non-null  object \n",
      " 3   Brand             23967 non-null  object \n",
      " 4   Price             23967 non-null  float64\n",
      " 5   Units_Sold        23967 non-null  float64\n",
      " 6   Customer_Rating   23967 non-null  float64\n",
      " 7   Launch_Year       23967 non-null  int32  \n",
      " 8   Processor_Type    23967 non-null  object \n",
      " 9   RAM               23967 non-null  float64\n",
      " 10  Storage           23967 non-null  float64\n",
      " 11  Battery_Life      23967 non-null  float64\n",
      " 12  Operating_System  23967 non-null  object \n",
      " 13  Warranty_Period   23967 non-null  int32  \n",
      " 14  Launch_year       23967 non-null  int32  \n",
      "dtypes: float64(6), int32(4), object(5)\n",
      "memory usage: 2.6+ MB\n"
     ]
    }
   ],
   "source": [
    "df_clean[['Product_ID', 'Launch_Year', 'Warranty_Period']] = df_clean[['Product_ID', 'Launch_Year', 'Warranty_Period']].astype(int)\n",
    "df_clean.info()"
   ]
  },
  {
   "cell_type": "markdown",
   "id": "d6e8074a-4261-47f2-bb21-b2f69f3e3bb9",
   "metadata": {},
   "source": [
    "## CREATING NEW FEATURE "
   ]
  },
  {
   "cell_type": "code",
   "execution_count": 89,
   "id": "fec18a68-5c70-480f-b8ff-00ad547b59d8",
   "metadata": {},
   "outputs": [],
   "source": [
    "# Calculate the Success_Rate as the product of Units_Sold and Customer_Rating\n",
    "df_clean['Success_Rate'] = df_clean['Units_Sold'] * df['Customer_Rating']"
   ]
  },
  {
   "cell_type": "code",
   "execution_count": 82,
   "id": "08c71635-1900-4e93-a192-646f32f3af55",
   "metadata": {},
   "outputs": [],
   "source": [
    "# Define the threshold using the median Success_Rate\n",
    "threshold = df_clean['Success_Rate'].median()"
   ]
  },
  {
   "cell_type": "code",
   "execution_count": 90,
   "id": "db200d64-e06e-44e6-829e-dc8c14652bff",
   "metadata": {},
   "outputs": [
    {
     "name": "stdout",
     "output_type": "stream",
     "text": [
      "<class 'pandas.core.frame.DataFrame'>\n",
      "Index: 23967 entries, 1 to 49999\n",
      "Data columns (total 17 columns):\n",
      " #   Column            Non-Null Count  Dtype  \n",
      "---  ------            --------------  -----  \n",
      " 0   Product_ID        23967 non-null  int32  \n",
      " 1   Product_Name      23967 non-null  object \n",
      " 2   Category          23967 non-null  object \n",
      " 3   Brand             23967 non-null  object \n",
      " 4   Price             23967 non-null  float64\n",
      " 5   Units_Sold        23967 non-null  float64\n",
      " 6   Customer_Rating   23967 non-null  float64\n",
      " 7   Launch_Year       23967 non-null  int32  \n",
      " 8   Processor_Type    23967 non-null  object \n",
      " 9   RAM               23967 non-null  float64\n",
      " 10  Storage           23967 non-null  float64\n",
      " 11  Battery_Life      23967 non-null  float64\n",
      " 12  Operating_System  23967 non-null  object \n",
      " 13  Warranty_Period   23967 non-null  int32  \n",
      " 14  Launch_year       23967 non-null  int32  \n",
      " 15  Success_Rate      23967 non-null  float64\n",
      " 16  Success_Category  23967 non-null  object \n",
      "dtypes: float64(7), int32(4), object(6)\n",
      "memory usage: 3.4+ MB\n"
     ]
    }
   ],
   "source": [
    "# Create the Success Category column\n",
    "df_clean['Success_Category'] = df_clean['Success_Rate'].apply(lambda x: 'Successful' if x >= threshold else 'Not Successful')\n",
    "df_clean.info()"
   ]
  },
  {
   "cell_type": "markdown",
   "id": "acb12bfd-ab6f-4ac3-88a9-be8d6d0a654d",
   "metadata": {},
   "source": [
    "# STANDARDIZATION OF DATASET"
   ]
  },
  {
   "cell_type": "code",
   "execution_count": 93,
   "id": "1e69fe98-2a7c-42c1-9660-1612453d4bb8",
   "metadata": {},
   "outputs": [
    {
     "name": "stdout",
     "output_type": "stream",
     "text": [
      "   Product_ID  Product_Name    Category     Brand     Price  Units_Sold  \\\n",
      "1        2023    WorkPro 15      Tablet  TechCorp -1.085571   -1.514311   \n",
      "2        2023  UltraPhone X  Smartphone  MegaSoft -0.754351   -1.328827   \n",
      "\n",
      "   Customer_Rating  Launch_Year  Processor_Type       RAM   Storage  \\\n",
      "1        -0.206548         2023        Intel i7 -0.536279 -0.395189   \n",
      "2        -1.212958         2023  Snapdragon 888 -0.108758 -0.395189   \n",
      "\n",
      "   Battery_Life Operating_System  Warranty_Period  Launch_year  Success_Rate  \\\n",
      "1     -0.250124          Windows                2         2023     -1.483484   \n",
      "2     -0.888099              iOS                1         2023     -1.370228   \n",
      "\n",
      "  Success_Category  \n",
      "1   Not Successful  \n",
      "2   Not Successful  \n"
     ]
    }
   ],
   "source": [
    "import pandas as pd\n",
    "from sklearn.preprocessing import StandardScaler\n",
    "\n",
    "# List of numerical columns to standardize\n",
    "numerical_columns = ['Price', 'Units_Sold', 'Customer_Rating', 'RAM', 'Storage', 'Battery_Life', 'Success_Rate']\n",
    "\n",
    "# Initialize the scaler\n",
    "scaler = StandardScaler()\n",
    "\n",
    "# Copy the DataFrame to avoid modifying the original one\n",
    "df_final = df_clean.copy()\n",
    "\n",
    "# Fit the scaler and transform the numerical columns\n",
    "df_final[numerical_columns] = scaler.fit_transform(df_clean[numerical_columns])\n",
    "\n",
    "# Display the first few rows of the standardized DataFrame\n",
    "print(df_final.head(2))\n"
   ]
  },
  {
   "cell_type": "code",
   "execution_count": 99,
   "id": "1476cd40-ba70-4cb5-99b3-40f8b00627a3",
   "metadata": {},
   "outputs": [
    {
     "data": {
      "text/html": [
       "<div>\n",
       "<style scoped>\n",
       "    .dataframe tbody tr th:only-of-type {\n",
       "        vertical-align: middle;\n",
       "    }\n",
       "\n",
       "    .dataframe tbody tr th {\n",
       "        vertical-align: top;\n",
       "    }\n",
       "\n",
       "    .dataframe thead th {\n",
       "        text-align: right;\n",
       "    }\n",
       "</style>\n",
       "<table border=\"1\" class=\"dataframe\">\n",
       "  <thead>\n",
       "    <tr style=\"text-align: right;\">\n",
       "      <th></th>\n",
       "      <th>Product_ID</th>\n",
       "      <th>Product_Name</th>\n",
       "      <th>Category</th>\n",
       "      <th>Brand</th>\n",
       "      <th>Price</th>\n",
       "      <th>Units_Sold</th>\n",
       "      <th>Customer_Rating</th>\n",
       "      <th>Launch_Year</th>\n",
       "      <th>Processor_Type</th>\n",
       "      <th>RAM</th>\n",
       "      <th>Storage</th>\n",
       "      <th>Battery_Life</th>\n",
       "      <th>Operating_System</th>\n",
       "      <th>Warranty_Period</th>\n",
       "      <th>Launch_year</th>\n",
       "      <th>Success_Rate</th>\n",
       "      <th>Success_Category</th>\n",
       "    </tr>\n",
       "  </thead>\n",
       "  <tbody>\n",
       "    <tr>\n",
       "      <th>1</th>\n",
       "      <td>2023</td>\n",
       "      <td>WorkPro 15</td>\n",
       "      <td>Tablet</td>\n",
       "      <td>TechCorp</td>\n",
       "      <td>-1.085571</td>\n",
       "      <td>-1.514311</td>\n",
       "      <td>-0.206548</td>\n",
       "      <td>2023</td>\n",
       "      <td>Intel i7</td>\n",
       "      <td>-0.536279</td>\n",
       "      <td>-0.395189</td>\n",
       "      <td>-0.250124</td>\n",
       "      <td>Windows</td>\n",
       "      <td>2</td>\n",
       "      <td>2023</td>\n",
       "      <td>-1.483484</td>\n",
       "      <td>Not Successful</td>\n",
       "    </tr>\n",
       "    <tr>\n",
       "      <th>2</th>\n",
       "      <td>2023</td>\n",
       "      <td>UltraPhone X</td>\n",
       "      <td>Smartphone</td>\n",
       "      <td>MegaSoft</td>\n",
       "      <td>-0.754351</td>\n",
       "      <td>-1.328827</td>\n",
       "      <td>-1.212958</td>\n",
       "      <td>2023</td>\n",
       "      <td>Snapdragon 888</td>\n",
       "      <td>-0.108758</td>\n",
       "      <td>-0.395189</td>\n",
       "      <td>-0.888099</td>\n",
       "      <td>iOS</td>\n",
       "      <td>1</td>\n",
       "      <td>2023</td>\n",
       "      <td>-1.370228</td>\n",
       "      <td>Not Successful</td>\n",
       "    </tr>\n",
       "    <tr>\n",
       "      <th>3</th>\n",
       "      <td>2022</td>\n",
       "      <td>GameStation Z</td>\n",
       "      <td>Laptop</td>\n",
       "      <td>TechCorp</td>\n",
       "      <td>-0.533733</td>\n",
       "      <td>-0.165905</td>\n",
       "      <td>0.799862</td>\n",
       "      <td>2022</td>\n",
       "      <td>AMD Ryzen 7</td>\n",
       "      <td>0.318763</td>\n",
       "      <td>-0.762679</td>\n",
       "      <td>-0.888099</td>\n",
       "      <td>Windows</td>\n",
       "      <td>1</td>\n",
       "      <td>2022</td>\n",
       "      <td>-0.010204</td>\n",
       "      <td>Successful</td>\n",
       "    </tr>\n",
       "    <tr>\n",
       "      <th>4</th>\n",
       "      <td>2022</td>\n",
       "      <td>GameStation Z</td>\n",
       "      <td>Laptop</td>\n",
       "      <td>TechCorp</td>\n",
       "      <td>0.227547</td>\n",
       "      <td>-1.082733</td>\n",
       "      <td>-1.816804</td>\n",
       "      <td>2022</td>\n",
       "      <td>AMD Ryzen 7</td>\n",
       "      <td>2.028848</td>\n",
       "      <td>-0.395189</td>\n",
       "      <td>-0.569112</td>\n",
       "      <td>Windows</td>\n",
       "      <td>2</td>\n",
       "      <td>2022</td>\n",
       "      <td>-1.216513</td>\n",
       "      <td>Not Successful</td>\n",
       "    </tr>\n",
       "    <tr>\n",
       "      <th>6</th>\n",
       "      <td>2017</td>\n",
       "      <td>UltraPhone X</td>\n",
       "      <td>Laptop</td>\n",
       "      <td>Innovatech</td>\n",
       "      <td>-0.161966</td>\n",
       "      <td>0.515053</td>\n",
       "      <td>-1.816804</td>\n",
       "      <td>2017</td>\n",
       "      <td>Intel i7</td>\n",
       "      <td>2.028848</td>\n",
       "      <td>0.339791</td>\n",
       "      <td>-0.250124</td>\n",
       "      <td>Android</td>\n",
       "      <td>3</td>\n",
       "      <td>2017</td>\n",
       "      <td>0.028383</td>\n",
       "      <td>Successful</td>\n",
       "    </tr>\n",
       "  </tbody>\n",
       "</table>\n",
       "</div>"
      ],
      "text/plain": [
       "   Product_ID   Product_Name    Category       Brand     Price  Units_Sold  \\\n",
       "1        2023     WorkPro 15      Tablet    TechCorp -1.085571   -1.514311   \n",
       "2        2023   UltraPhone X  Smartphone    MegaSoft -0.754351   -1.328827   \n",
       "3        2022  GameStation Z      Laptop    TechCorp -0.533733   -0.165905   \n",
       "4        2022  GameStation Z      Laptop    TechCorp  0.227547   -1.082733   \n",
       "6        2017   UltraPhone X      Laptop  Innovatech -0.161966    0.515053   \n",
       "\n",
       "   Customer_Rating  Launch_Year  Processor_Type       RAM   Storage  \\\n",
       "1        -0.206548         2023        Intel i7 -0.536279 -0.395189   \n",
       "2        -1.212958         2023  Snapdragon 888 -0.108758 -0.395189   \n",
       "3         0.799862         2022     AMD Ryzen 7  0.318763 -0.762679   \n",
       "4        -1.816804         2022     AMD Ryzen 7  2.028848 -0.395189   \n",
       "6        -1.816804         2017        Intel i7  2.028848  0.339791   \n",
       "\n",
       "   Battery_Life Operating_System  Warranty_Period  Launch_year  Success_Rate  \\\n",
       "1     -0.250124          Windows                2         2023     -1.483484   \n",
       "2     -0.888099              iOS                1         2023     -1.370228   \n",
       "3     -0.888099          Windows                1         2022     -0.010204   \n",
       "4     -0.569112          Windows                2         2022     -1.216513   \n",
       "6     -0.250124          Android                3         2017      0.028383   \n",
       "\n",
       "  Success_Category  \n",
       "1   Not Successful  \n",
       "2   Not Successful  \n",
       "3       Successful  \n",
       "4   Not Successful  \n",
       "6       Successful  "
      ]
     },
     "execution_count": 99,
     "metadata": {},
     "output_type": "execute_result"
    }
   ],
   "source": [
    "df_final.head()"
   ]
  },
  {
   "cell_type": "markdown",
   "id": "e96cc335-793d-422c-996c-620cf0cd38ac",
   "metadata": {},
   "source": [
    "## CONVERTING DATAFRAME INTO CSV FOR DOCUMENTATION "
   ]
  },
  {
   "cell_type": "code",
   "execution_count": 101,
   "id": "8e292595-f910-4224-a874-894dec82e179",
   "metadata": {},
   "outputs": [],
   "source": [
    "df_final.to_csv('Cleaned Dataset.csv', index=False)\n"
   ]
  },
  {
   "cell_type": "code",
   "execution_count": null,
   "id": "b1968556-18aa-4f3f-bea9-d800d5d3d14a",
   "metadata": {},
   "outputs": [],
   "source": []
  }
 ],
 "metadata": {
  "kernelspec": {
   "display_name": "Python 3 (ipykernel)",
   "language": "python",
   "name": "python3"
  },
  "language_info": {
   "codemirror_mode": {
    "name": "ipython",
    "version": 3
   },
   "file_extension": ".py",
   "mimetype": "text/x-python",
   "name": "python",
   "nbconvert_exporter": "python",
   "pygments_lexer": "ipython3",
   "version": "3.11.7"
  }
 },
 "nbformat": 4,
 "nbformat_minor": 5
}
